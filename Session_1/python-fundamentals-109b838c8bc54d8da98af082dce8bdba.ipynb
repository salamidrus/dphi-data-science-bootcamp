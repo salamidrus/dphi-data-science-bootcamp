{
 "cells": [
  {
   "cell_type": "code",
   "execution_count": 1,
   "metadata": {},
   "outputs": [
    {
     "name": "stdout",
     "output_type": "stream",
     "text": [
      "Hello World\n"
     ]
    }
   ],
   "source": [
    "# print function\n",
    "print(\"Hello World\")"
   ]
  },
  {
   "cell_type": "code",
   "execution_count": 2,
   "metadata": {},
   "outputs": [
    {
     "name": "stdout",
     "output_type": "stream",
     "text": [
      "Hello Mohammed\n"
     ]
    }
   ],
   "source": [
    "#Single line and multiline comments in python\n",
    "#print(\"Hello Ravi\")\n",
    "'''print(\"Hello Aishwarya\")\n",
    "print(\"Hello Andrew\")'''\n",
    "print(\"Hello Mohammed\")"
   ]
  },
  {
   "cell_type": "code",
   "execution_count": 3,
   "metadata": {},
   "outputs": [
    {
     "name": "stdout",
     "output_type": "stream",
     "text": [
      "7.8\n"
     ]
    }
   ],
   "source": [
    "#operators\n",
    "result = ((10+22)%3)**4//2-1/5\n",
    "print(result)"
   ]
  },
  {
   "cell_type": "code",
   "execution_count": 4,
   "metadata": {},
   "outputs": [
    {
     "name": "stdout",
     "output_type": "stream",
     "text": [
      "6\n",
      "1hi33\n",
      "hihihi\n"
     ]
    }
   ],
   "source": [
    "#assignment at a time and mixing of operators\n",
    "a,b,c = 1,2,3\n",
    "print(a+b+c)\n",
    "b=\"hi\"\n",
    "print(str(a)+b+str(c)+str(c))\n",
    "#print(a+b+c)\n",
    "print(c*b)"
   ]
  },
  {
   "cell_type": "code",
   "execution_count": 5,
   "metadata": {},
   "outputs": [
    {
     "name": "stdout",
     "output_type": "stream",
     "text": [
      "Enter a Value = 4\n",
      "the value entered is  4\n",
      "type of the value entered is  <class 'str'>\n"
     ]
    }
   ],
   "source": [
    "#input and output\n",
    "value = input(\"Enter a Value = \")\n",
    "print(\"the value entered is \",value)\n",
    "print(\"type of the value entered is \",type(value))"
   ]
  },
  {
   "cell_type": "code",
   "execution_count": 6,
   "metadata": {},
   "outputs": [
    {
     "name": "stdout",
     "output_type": "stream",
     "text": [
      "<class 'int'> 4\n"
     ]
    }
   ],
   "source": [
    "no = int(value)\n",
    "#no = float(value)\n",
    "#no = str(value)\n",
    "print(type(no),value)"
   ]
  },
  {
   "cell_type": "code",
   "execution_count": 7,
   "metadata": {},
   "outputs": [
    {
     "name": "stdout",
     "output_type": "stream",
     "text": [
      "[1, 2, 3, 4, 5, 6, 7, 8, 9, 10]\n",
      "[10, 9, 8, 7, 6, 5, 4, 3, 2, 1]\n",
      "[1, 2, 3, 4, 5]\n",
      "[3, 4, 5]\n",
      "[1, 3, 5, 7, 9]\n",
      "[2, 4, 6, 8, 10]\n",
      "[1, 2, 3, 4, 5, 6, 7, 8, 9, 10, 11]\n",
      "[1, 2, 3, 4, 5, 6, 7, 8, 9, 10, 11, 12, 13, 14, 15, 1, 2, 3, 4, 5, 6, 7, 8, 9, 10, 11, 12, 13, 14, 15]\n"
     ]
    }
   ],
   "source": [
    "#lists\n",
    "#l[start:end:step]\n",
    "l = [1,2,3,4,5,6,7,8,9,10]\n",
    "print(l)\n",
    "print(l[::-1])\n",
    "print(l[:5])\n",
    "print(l[2:5])\n",
    "print(l[::2])\n",
    "print(l[1::2])\n",
    "l.append(11)\n",
    "print(l)\n",
    "l=l+[12,13,14,15]\n",
    "print(l*2)"
   ]
  },
  {
   "cell_type": "code",
   "execution_count": 8,
   "metadata": {},
   "outputs": [
    {
     "name": "stdout",
     "output_type": "stream",
     "text": [
      "15\n"
     ]
    },
    {
     "ename": "IndexError",
     "evalue": "list index out of range",
     "output_type": "error",
     "traceback": [
      "\u001b[1;31m---------------------------------------------------------------------------\u001b[0m",
      "\u001b[1;31mIndexError\u001b[0m                                Traceback (most recent call last)",
      "\u001b[1;32m<ipython-input-8-4748c384481a>\u001b[0m in \u001b[0;36m<module>\u001b[1;34m\u001b[0m\n\u001b[0;32m      1\u001b[0m \u001b[0mprint\u001b[0m\u001b[1;33m(\u001b[0m\u001b[0mlen\u001b[0m\u001b[1;33m(\u001b[0m\u001b[0ml\u001b[0m\u001b[1;33m)\u001b[0m\u001b[1;33m)\u001b[0m\u001b[1;33m\u001b[0m\u001b[1;33m\u001b[0m\u001b[0m\n\u001b[1;32m----> 2\u001b[1;33m \u001b[0ml\u001b[0m\u001b[1;33m[\u001b[0m\u001b[1;36m20\u001b[0m\u001b[1;33m]\u001b[0m\u001b[1;33m\u001b[0m\u001b[1;33m\u001b[0m\u001b[0m\n\u001b[0m",
      "\u001b[1;31mIndexError\u001b[0m: list index out of range"
     ]
    }
   ],
   "source": [
    "print(len(l))\n",
    "l[20]"
   ]
  },
  {
   "cell_type": "code",
   "execution_count": 9,
   "metadata": {},
   "outputs": [
    {
     "name": "stdout",
     "output_type": "stream",
     "text": [
      "1,2,3,4,5,6,7,8,9,10,11,12,13,14,15,"
     ]
    }
   ],
   "source": [
    "for i in l:\n",
    "    print(i,end=\",\")\n",
    "    #print(\"i\",end=\",\")"
   ]
  },
  {
   "cell_type": "code",
   "execution_count": 10,
   "metadata": {},
   "outputs": [
    {
     "name": "stdout",
     "output_type": "stream",
     "text": [
      "['hi', 'hello', 'how', 'are', 'you']\n"
     ]
    }
   ],
   "source": [
    "l=['hi','hello','how','are','you']\n",
    "print(l)"
   ]
  },
  {
   "cell_type": "code",
   "execution_count": 11,
   "metadata": {},
   "outputs": [
    {
     "name": "stdout",
     "output_type": "stream",
     "text": [
      "hi hello how are you "
     ]
    }
   ],
   "source": [
    "for i in l:\n",
    "    print(i,end=\" \")"
   ]
  },
  {
   "cell_type": "code",
   "execution_count": 12,
   "metadata": {},
   "outputs": [
    {
     "name": "stdout",
     "output_type": "stream",
     "text": [
      "[1, 3.9, 'how', True, 'you']\n"
     ]
    }
   ],
   "source": [
    "l=[1,3.9,'how',True,'you']\n",
    "print(l)"
   ]
  },
  {
   "cell_type": "code",
   "execution_count": 13,
   "metadata": {},
   "outputs": [
    {
     "name": "stdout",
     "output_type": "stream",
     "text": [
      "[1, 3.9, 'how', True, 'you', 1, 3.9, 'how', True, 'you', 1, 3.9, 'how', True, 'you']\n"
     ]
    }
   ],
   "source": [
    "l=l*3\n",
    "print(l)"
   ]
  },
  {
   "cell_type": "code",
   "execution_count": 14,
   "metadata": {},
   "outputs": [
    {
     "data": {
      "text/plain": [
       "'you'"
      ]
     },
     "execution_count": 14,
     "metadata": {},
     "output_type": "execute_result"
    }
   ],
   "source": [
    "l.pop()"
   ]
  },
  {
   "cell_type": "code",
   "execution_count": 15,
   "metadata": {},
   "outputs": [
    {
     "name": "stdout",
     "output_type": "stream",
     "text": [
      "[1, 3.9, 'how', True, 'you', 1, 3.9, 'how', True, 'you', 1, 3.9, 'how', True]\n"
     ]
    },
    {
     "data": {
      "text/plain": [
       "3"
      ]
     },
     "execution_count": 15,
     "metadata": {},
     "output_type": "execute_result"
    }
   ],
   "source": [
    "print(l)\n",
    "l.count(3.9)"
   ]
  },
  {
   "cell_type": "code",
   "execution_count": 16,
   "metadata": {},
   "outputs": [
    {
     "name": "stdout",
     "output_type": "stream",
     "text": [
      "[1, 3.9, True, 'you', 1, 3.9, 'how', True, 'you', 1, 3.9, 'how', True]\n"
     ]
    }
   ],
   "source": [
    "l.remove('how')\n",
    "print(l)"
   ]
  },
  {
   "cell_type": "code",
   "execution_count": 17,
   "metadata": {},
   "outputs": [
    {
     "name": "stdout",
     "output_type": "stream",
     "text": [
      "[1, 3.9, True, 'you', 1, 3.9, 'how', True, 'you', 1, 3.9, 'how', True, 'ssj', 'wew', 'we']\n"
     ]
    }
   ],
   "source": [
    "l.extend(['ssj','wew','we'])\n",
    "print(l)\n",
    "l=l+['ssj','wew','we']"
   ]
  },
  {
   "cell_type": "code",
   "execution_count": 18,
   "metadata": {},
   "outputs": [
    {
     "name": "stdout",
     "output_type": "stream",
     "text": [
      "[1, 3.9, True, 'you', 1, 'Kalam', 3.9, 'how', True, 'you', 1, 3.9, 'how', True, 'ssj', 'wew', 'we', 'ssj', 'wew', 'we']\n"
     ]
    }
   ],
   "source": [
    "l.insert(5,'Kalam')\n",
    "print(l)"
   ]
  },
  {
   "cell_type": "code",
   "execution_count": 19,
   "metadata": {},
   "outputs": [
    {
     "data": {
      "text/plain": [
       "'Kalam'"
      ]
     },
     "execution_count": 19,
     "metadata": {},
     "output_type": "execute_result"
    }
   ],
   "source": [
    "l[5]"
   ]
  },
  {
   "cell_type": "code",
   "execution_count": 20,
   "metadata": {},
   "outputs": [
    {
     "name": "stdout",
     "output_type": "stream",
     "text": [
      "[1, 2, 3, 4, 5, 6]\n"
     ]
    }
   ],
   "source": [
    "l=[3,2,1,4,6,5]\n",
    "l.sort()\n",
    "print(l)"
   ]
  },
  {
   "cell_type": "code",
   "execution_count": 21,
   "metadata": {},
   "outputs": [
    {
     "name": "stdout",
     "output_type": "stream",
     "text": [
      "('apple', 'berry', 'carrot', 'drumstick')\n",
      "('carrot', 'berry', 'apple')\n"
     ]
    }
   ],
   "source": [
    "t = ('apple','berry','carrot','drumstick')\n",
    "print(t)\n",
    "print(t[-2::-1])\n",
    "#t[1]='banana'"
   ]
  },
  {
   "cell_type": "code",
   "execution_count": 22,
   "metadata": {},
   "outputs": [
    {
     "name": "stdout",
     "output_type": "stream",
     "text": [
      "('apple', 'berry', 'carrot', 'drumstick', 'egg')\n"
     ]
    }
   ],
   "source": [
    "t = ('apple','berry','carrot','drumstick')\n",
    "l = list(t)\n",
    "l.append('egg')\n",
    "t = tuple(l)\n",
    "print(t)"
   ]
  },
  {
   "cell_type": "code",
   "execution_count": 23,
   "metadata": {},
   "outputs": [
    {
     "name": "stdout",
     "output_type": "stream",
     "text": [
      "{'Kala': 1234, 'Mala': 2222, 'Mani': 3333, 'Karthik': 4444}\n",
      "dict_items([('Kala', 1234), ('Mala', 2222), ('Mani', 3333), ('Karthik', 4444)])\n",
      "dict_values([1234, 2222, 3333, 4444])\n",
      "dict_keys(['Kala', 'Mala', 'Mani', 'Karthik'])\n",
      "Kala's rollno is 1234\n",
      "Mala's rollno is 2222\n",
      "Mani's rollno is 3333\n",
      "Karthik's rollno is 4444\n"
     ]
    }
   ],
   "source": [
    "#dictionary\n",
    "students={}\n",
    "#students=dict()\n",
    "students['Kala']=1234\n",
    "students['Mala']=2222\n",
    "students['Mani']=3333\n",
    "students['Karthik']=4444\n",
    "print(students)\n",
    "print(students.items())\n",
    "print(students.values())\n",
    "print(students.keys())\n",
    "\n",
    "for name,roll in students.items():\n",
    "    print(\"%s's rollno is %s\"%(name,roll))"
   ]
  },
  {
   "cell_type": "code",
   "execution_count": 24,
   "metadata": {},
   "outputs": [
    {
     "name": "stdout",
     "output_type": "stream",
     "text": [
      "Hello, Ram, Khan, Andrew!\n",
      "Welcome Ram\n",
      "HexaDecimal of 17 is 11\n"
     ]
    }
   ],
   "source": [
    "name1,name2,name3 = \"Ram\",\"Khan\",\"Andrew\"\n",
    "print(\"Hello, %s, %s, %s!\" % (name1,name2,name3))\n",
    "print(\"Welcome %s\" % name1)\n",
    "print(\"HexaDecimal of 17 is %x\" % 17)"
   ]
  },
  {
   "cell_type": "code",
   "execution_count": 25,
   "metadata": {},
   "outputs": [
    {
     "name": "stdout",
     "output_type": "stream",
     "text": [
      "4\n",
      "19\n",
      "['Pavan', 'is', 'a', 'good', 'boy']\n",
      "yob doog a si navaP\n",
      "PAVAN IS A GOOD BOY\n",
      "pavan is a good boy\n",
      "True\n",
      "False\n"
     ]
    }
   ],
   "source": [
    "s = 'Pavan is a good boy'\n",
    "print(s.index('n'))\n",
    "print(len(s))\n",
    "print(s.split(' '))\n",
    "print(s[::-1])\n",
    "print(s.upper())\n",
    "print(s.lower())\n",
    "print(s.startswith(\"Pavan\"))\n",
    "print(s.endswith(\"Pavan\"))"
   ]
  },
  {
   "cell_type": "code",
   "execution_count": 3,
   "metadata": {},
   "outputs": [
    {
     "name": "stdout",
     "output_type": "stream",
     "text": [
      "6\n",
      "24\n"
     ]
    }
   ],
   "source": [
    "from math_module import addition,multiplication\n",
    "print(addition(1,2,3))\n",
    "print(multiplication(1,2,3,4))"
   ]
  },
  {
   "cell_type": "code",
   "execution_count": 8,
   "metadata": {},
   "outputs": [
    {
     "name": "stdout",
     "output_type": "stream",
     "text": [
      "10\n"
     ]
    }
   ],
   "source": [
    "from random import randint\n",
    "print(randint(1,10))"
   ]
  },
  {
   "cell_type": "code",
   "execution_count": 28,
   "metadata": {},
   "outputs": [
    {
     "name": "stdout",
     "output_type": "stream",
     "text": [
      "x is not greater than 10\n"
     ]
    }
   ],
   "source": [
    "x=10\n",
    "if x>10:\n",
    "    print(\"x is greater than 10\")\n",
    "else:\n",
    "    print(\"x is not greater than 10\")"
   ]
  },
  {
   "cell_type": "code",
   "execution_count": 29,
   "metadata": {},
   "outputs": [
    {
     "name": "stdout",
     "output_type": "stream",
     "text": [
      "x is equal to 10\n"
     ]
    }
   ],
   "source": [
    "x=10\n",
    "if x==10:\n",
    "    print(\"x is equal to 10\")\n",
    "else:\n",
    "    print(\"x is not equal to 10\")"
   ]
  },
  {
   "cell_type": "code",
   "execution_count": 30,
   "metadata": {},
   "outputs": [
    {
     "name": "stdout",
     "output_type": "stream",
     "text": [
      "condition False\n"
     ]
    }
   ],
   "source": [
    "x,y=10,20\n",
    "if x==10 and y==15:\n",
    "    print(\"condition True\")\n",
    "else:\n",
    "    print(\"condition False\")"
   ]
  },
  {
   "cell_type": "code",
   "execution_count": 31,
   "metadata": {},
   "outputs": [
    {
     "name": "stdout",
     "output_type": "stream",
     "text": [
      "condition True\n"
     ]
    }
   ],
   "source": [
    "x,y=10,20\n",
    "if x==10 or y==15:\n",
    "    print(\"condition True\")\n",
    "else:\n",
    "    print(\"condition False\")"
   ]
  },
  {
   "cell_type": "code",
   "execution_count": 32,
   "metadata": {},
   "outputs": [
    {
     "name": "stdout",
     "output_type": "stream",
     "text": [
      "2  is in  [1, 2, 3, 4, 5]\n"
     ]
    }
   ],
   "source": [
    "x=2\n",
    "l=[1,2,3,4,5]\n",
    "if x in l:\n",
    "    print(x,\" is in \",l)"
   ]
  },
  {
   "cell_type": "code",
   "execution_count": 33,
   "metadata": {},
   "outputs": [
    {
     "name": "stdout",
     "output_type": "stream",
     "text": [
      "True\n"
     ]
    }
   ],
   "source": [
    "if True:\n",
    "    print(True)\n",
    "if not True:\n",
    "    print(False)"
   ]
  },
  {
   "cell_type": "code",
   "execution_count": 34,
   "metadata": {},
   "outputs": [],
   "source": [
    "x=15\n",
    "if x<15:\n",
    "    print(\"< 15\")\n",
    "elif x>15:\n",
    "    print(\"> 15\")\n",
    "else:\n",
    "    pass"
   ]
  },
  {
   "cell_type": "code",
   "execution_count": 35,
   "metadata": {},
   "outputs": [
    {
     "name": "stdout",
     "output_type": "stream",
     "text": [
      "True\n",
      "False\n",
      "True\n"
     ]
    }
   ],
   "source": [
    "a=[1,2,3]\n",
    "b=[1,2,3]\n",
    "c=b\n",
    "print(a==b)\n",
    "print(a is b)\n",
    "print(c is b)"
   ]
  },
  {
   "cell_type": "code",
   "execution_count": 36,
   "metadata": {},
   "outputs": [
    {
     "name": "stdout",
     "output_type": "stream",
     "text": [
      "1 2 3 4 5 "
     ]
    }
   ],
   "source": [
    "l=[1,2,3,4,5]\n",
    "for i in l:\n",
    "    print(i,end=\" \")"
   ]
  },
  {
   "cell_type": "code",
   "execution_count": 37,
   "metadata": {},
   "outputs": [
    {
     "name": "stdout",
     "output_type": "stream",
     "text": [
      "0,1,2,3,4,5,6,7,8,9,"
     ]
    }
   ],
   "source": [
    "for i in range(10):\n",
    "    print(i,end=\",\")"
   ]
  },
  {
   "cell_type": "code",
   "execution_count": 38,
   "metadata": {},
   "outputs": [
    {
     "name": "stdout",
     "output_type": "stream",
     "text": [
      "5,6,7,8,9,"
     ]
    }
   ],
   "source": [
    "for i in range(5,10):\n",
    "    print(i,end=\",\")"
   ]
  },
  {
   "cell_type": "code",
   "execution_count": 39,
   "metadata": {},
   "outputs": [
    {
     "name": "stdout",
     "output_type": "stream",
     "text": [
      "1,3,5,7,9,"
     ]
    }
   ],
   "source": [
    "for i in range(1,10,2):\n",
    "    print(i,end=\",\")"
   ]
  },
  {
   "cell_type": "code",
   "execution_count": 40,
   "metadata": {},
   "outputs": [
    {
     "name": "stdout",
     "output_type": "stream",
     "text": [
      "red apple\n",
      "red banana\n",
      "red cherry\n",
      "big apple\n",
      "big banana\n",
      "big cherry\n",
      "tasty apple\n",
      "tasty banana\n",
      "tasty cherry\n"
     ]
    }
   ],
   "source": [
    "adj = [\"red\", \"big\", \"tasty\"]\n",
    "fruits = [\"apple\", \"banana\", \"cherry\"]\n",
    "\n",
    "for x in adj:\n",
    "    for y in fruits:\n",
    "        print(x, y)"
   ]
  },
  {
   "cell_type": "markdown",
   "metadata": {},
   "source": [
    "**Author of the notebook: [Murukessan](https://www.linkedin.com/in/murukessan-angappan-638a67115/)**"
   ]
  }
 ],
 "metadata": {
  "kernelspec": {
   "display_name": "Python 3",
   "language": "python",
   "name": "python3"
  },
  "language_info": {
   "codemirror_mode": {
    "name": "ipython",
    "version": 3
   },
   "file_extension": ".py",
   "mimetype": "text/x-python",
   "name": "python",
   "nbconvert_exporter": "python",
   "pygments_lexer": "ipython3",
   "version": "3.7.6"
  }
 },
 "nbformat": 4,
 "nbformat_minor": 4
}
